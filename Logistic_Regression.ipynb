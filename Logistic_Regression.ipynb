{
 "cells": [
  {
   "cell_type": "code",
   "execution_count": 1,
   "metadata": {},
   "outputs": [],
   "source": [
    "import numpy as np\n",
    "import matplotlib.pyplot as plt\n",
    "import math"
   ]
  },
  {
   "cell_type": "code",
   "execution_count": 2,
   "metadata": {},
   "outputs": [],
   "source": [
    "# Generating temporary data\n",
    "np.random.seed(1)\n",
    "X_tmp = np.random.rand(5,3)\n",
    "y_tmp = np.array([0,1,0,1,0])\n",
    "w_tmp = np.random.rand(X_tmp.shape[1])\n",
    "b_tmp = 0.5\n",
    "lambda_tmp = 0.7"
   ]
  },
  {
   "cell_type": "code",
   "execution_count": 3,
   "metadata": {},
   "outputs": [],
   "source": [
    "def computeLogisticCost(x,y,w,b,lambda_=1):\n",
    "    m,n = x.shape\n",
    "    cost = 0\n",
    "    for i in range(m):\n",
    "        z_i = np.dot(x[i],w) + b\n",
    "        f_wb_i = f_wb_i = 1 / (1 + np.exp(-z_i))\n",
    "        cost_i = -y[i]*np.log(f_wb_i) - (1-y[i])*np.log(1-f_wb_i)\n",
    "        cost += cost_i\n",
    "    cost/=m\n",
    "\n",
    "    reg_cost = 0\n",
    "    for j in range(n):\n",
    "        reg_cost += (w[j]**2)\n",
    "    reg_cost = (lambda_/(2*m))*reg_cost\n",
    "\n",
    "    total_cost = cost + reg_cost\n",
    "    return total_cost"
   ]
  },
  {
   "cell_type": "code",
   "execution_count": 4,
   "metadata": {},
   "outputs": [
    {
     "data": {
      "text/plain": [
       "0.9833310520475051"
      ]
     },
     "execution_count": 4,
     "metadata": {},
     "output_type": "execute_result"
    }
   ],
   "source": [
    "computeLogisticCost(X_tmp,y_tmp,w_tmp,b_tmp,lambda_tmp)"
   ]
  },
  {
   "cell_type": "code",
   "execution_count": 9,
   "metadata": {},
   "outputs": [],
   "source": [
    "def computeLogisticGradient(x,y,w,b,lambda_=1):\n",
    "    m,n = x.shape\n",
    "    dw = np.zeros((n,))\n",
    "    db = 0.0\n",
    "    for i in range(m):\n",
    "        z_i = np.dot(x[i],w) + b\n",
    "        f_wb_i = (1 + (math.e ** (-z_i)))**(-1)\n",
    "        error_i = f_wb_i - y[i]\n",
    "        for j in range(n):\n",
    "            dw[j]=dw[j] + error_i*x[i,j]\n",
    "        db = db+error_i\n",
    "\n",
    "    dw = dw/m\n",
    "    db = db/m\n",
    "\n",
    "    for j in range(n):\n",
    "        dw[j] = dw[j] + (lambda_/m)*w[j];\n",
    "\n",
    "    return db,dw"
   ]
  },
  {
   "cell_type": "code",
   "execution_count": 10,
   "metadata": {},
   "outputs": [
    {
     "name": "stdout",
     "output_type": "stream",
     "text": [
      "dj_db: 0.341798994972791\n",
      "Regularized dj_dw:\n",
      " [0.17380012933994293, 0.32007507881566943, 0.10776313396851497]\n"
     ]
    }
   ],
   "source": [
    "dj_db_tmp, dj_dw_tmp =  computeLogisticGradient(X_tmp, y_tmp, w_tmp, b_tmp, lambda_tmp)\n",
    "\n",
    "print(f\"dj_db: {dj_db_tmp}\", )\n",
    "print(f\"Regularized dj_dw:\\n {dj_dw_tmp.tolist()}\", )"
   ]
  },
  {
   "cell_type": "code",
   "execution_count": 13,
   "metadata": {},
   "outputs": [],
   "source": [
    "def gradient_descent(x,y,w,b,alpha,num_iters,lambda_):\n",
    "    m,n = x.shape\n",
    "    for i in range(num_iters):\n",
    "        partial_db,partial_dw = computeLogisticGradient(x,y,w,b,lambda_)\n",
    "        w = w - alpha * partial_dw\n",
    "        b = b - alpha * partial_db\n",
    "    return w,b"
   ]
  },
  {
   "cell_type": "code",
   "execution_count": 31,
   "metadata": {},
   "outputs": [
    {
     "name": "stdout",
     "output_type": "stream",
     "text": [
      "[ 0.24015708 -0.54446519  0.34986586] and -0.3001062335854335 , cost is 0.6058527584920157\n"
     ]
    }
   ],
   "source": [
    "alpha = 0.1\n",
    "num_iters = 1000\n",
    "m,n = X_tmp.shape\n",
    "w = np.zeros((n,))\n",
    "b = 0.0\n",
    "w,b = gradient_descent(X_tmp, y_tmp, w_tmp, b_tmp,alpha,num_iters, lambda_tmp)\n",
    "cost = 0.0\n",
    "cost = computeLogisticCost(X_tmp,y_tmp,w,b,0.1)\n",
    "print(f\"{w} and {b} , cost is {cost}\")\n"
   ]
  },
  {
   "cell_type": "code",
   "execution_count": null,
   "metadata": {},
   "outputs": [],
   "source": []
  }
 ],
 "metadata": {
  "kernelspec": {
   "display_name": "Python 3",
   "language": "python",
   "name": "python3"
  },
  "language_info": {
   "codemirror_mode": {
    "name": "ipython",
    "version": 3
   },
   "file_extension": ".py",
   "mimetype": "text/x-python",
   "name": "python",
   "nbconvert_exporter": "python",
   "pygments_lexer": "ipython3",
   "version": "3.12.0"
  }
 },
 "nbformat": 4,
 "nbformat_minor": 2
}
