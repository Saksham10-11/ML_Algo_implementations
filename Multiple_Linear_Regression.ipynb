{
 "cells": [
  {
   "cell_type": "code",
   "execution_count": 1,
   "metadata": {},
   "outputs": [],
   "source": [
    "import numpy as np\n",
    "import matplotlib.pyplot as plt"
   ]
  },
  {
   "cell_type": "code",
   "execution_count": 2,
   "metadata": {},
   "outputs": [],
   "source": [
    "x = np.array([[2104, 5, 1, 45], [1416, 3, 2, 40], [852, 2, 1, 35]])\n",
    "y = np.array([460, 232, 178])"
   ]
  },
  {
   "cell_type": "code",
   "execution_count": 3,
   "metadata": {},
   "outputs": [],
   "source": [
    "# Standardization\n",
    "x_mean = np.mean(x, axis=0)\n",
    "x_std = np.std(x, axis=0)\n",
    "x = (x - x_mean) / x_std\n",
    "\n",
    "y_mean = np.mean(y)\n",
    "y_std = np.std(y)\n",
    "y= (y - y_mean) / y_std"
   ]
  },
  {
   "cell_type": "code",
   "execution_count": 4,
   "metadata": {},
   "outputs": [],
   "source": [
    "def compute_cost(x,y,w,b):\n",
    "    m = x.shape[0]\n",
    "    cost = 0\n",
    "    for i in range(m):\n",
    "        f_wb = np.dot(x[i],w)+b\n",
    "        err = (y[i] - f_wb)**2\n",
    "        cost+=err\n",
    "    cost = cost/(2*m)\n",
    "    return cost"
   ]
  },
  {
   "cell_type": "code",
   "execution_count": 5,
   "metadata": {},
   "outputs": [],
   "source": [
    "def compute_gradient(x,y,w,b):\n",
    "    m,n = x.shape\n",
    "    partial_dw = np.zeros(n)\n",
    "    partial_db = 0\n",
    "    for i in range(m):\n",
    "        err = (np.dot(x[i],w)+b) - y[i]\n",
    "        for j in range(n):\n",
    "            partial_dw[j] = partial_dw[j] + err*x[i][j]\n",
    "        partial_db = partial_db + err \n",
    "    partial_db/=m\n",
    "    partial_dw/=m\n",
    "    return partial_dw,partial_db"
   ]
  },
  {
   "cell_type": "code",
   "execution_count": 6,
   "metadata": {},
   "outputs": [],
   "source": [
    "def gradient_descent(x,y,w,b,alpha,num_iters):\n",
    "    for i in range(num_iters):\n",
    "        partial_dw,partial_db = compute_gradient(x,y,w,b)\n",
    "        w = w - alpha * partial_dw\n",
    "        b = b - alpha * partial_db\n",
    "    return w,b\n"
   ]
  },
  {
   "cell_type": "code",
   "execution_count": 7,
   "metadata": {},
   "outputs": [
    {
     "name": "stdout",
     "output_type": "stream",
     "text": [
      "w is [ 0.31135507  0.33992537 -0.25356521  0.2973644 ] and b is 5.514107688971619e-17\n"
     ]
    }
   ],
   "source": [
    "w = np.zeros(4)\n",
    "b = 0\n",
    "alpha = 0.01\n",
    "num_iters = 10000\n",
    "w,b = gradient_descent(x,y,w,b,alpha,num_iters)\n",
    "print(f\"w is {w} and b is {b}\")"
   ]
  },
  {
   "cell_type": "code",
   "execution_count": 8,
   "metadata": {},
   "outputs": [
    {
     "name": "stdout",
     "output_type": "stream",
     "text": [
      "The cost is : 7.350375830418699e-30\n"
     ]
    }
   ],
   "source": [
    "cost = compute_cost(x,y,w,b)\n",
    "print(f\"The cost is : {cost}\")"
   ]
  },
  {
   "cell_type": "code",
   "execution_count": null,
   "metadata": {},
   "outputs": [],
   "source": []
  }
 ],
 "metadata": {
  "kernelspec": {
   "display_name": "Python 3",
   "language": "python",
   "name": "python3"
  },
  "language_info": {
   "codemirror_mode": {
    "name": "ipython",
    "version": 3
   },
   "file_extension": ".py",
   "mimetype": "text/x-python",
   "name": "python",
   "nbconvert_exporter": "python",
   "pygments_lexer": "ipython3",
   "version": "3.12.0"
  }
 },
 "nbformat": 4,
 "nbformat_minor": 2
}
